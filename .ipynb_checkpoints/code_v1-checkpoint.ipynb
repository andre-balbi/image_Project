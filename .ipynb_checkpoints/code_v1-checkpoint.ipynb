{
 "cells": [
  {
   "cell_type": "code",
   "execution_count": 1,
   "id": "024af3b2-b834-4e80-a86a-3cdc4345aafc",
   "metadata": {},
   "outputs": [],
   "source": [
    "# To run this code must be intalled on the local machine the ImageMagick app!\n",
    "import os\n",
    "from glob import glob\n",
    "from libtiff import TIFF\n",
    "from wand.image import Image\n",
    "\n",
    "from PIL import Image, ImageDraw\n",
    "\n",
    "import warnings\n",
    "warnings.filterwarnings(\"ignore\")"
   ]
  },
  {
   "cell_type": "code",
   "execution_count": 2,
   "id": "a16943ec-b3e2-447b-af27-2d9a088d29ca",
   "metadata": {},
   "outputs": [],
   "source": [
    "def convert_img(from_='tif', to_='jpg'):\n",
    "    try:\n",
    "        print(f'changing dir from: {os.getcwd()}') # Current dir\n",
    "        os.chdir(\"./img\") # Changint the dir to img folder\n",
    "        print(f'to: {os.getcwd()}') # Current dir\n",
    "    except Exception as e:\n",
    "        os.chdir(\"../img\") # Changint the dir to img folder\n",
    "        pass\n",
    "    print()\n",
    "    imgs = [i for i in glob(f\"*.{from_}\")] # Getting just the .tif files in the folder\n",
    "    \n",
    "    for i, img in enumerate(imgs):\n",
    "        from wand.image import Image \n",
    "        with Image(filename = img) as Sampleimg:  \n",
    "            Sampleimg.format = to_\n",
    "            file_name = f'{img[:-4]}.{to_}'\n",
    "            os.chdir(\"../new_img\") # Changing the dir to 'new_img' folder\n",
    "            Sampleimg.save(filename = file_name)\n",
    "            os.chdir(\"../img\") # Changint the dir to 'img' folder\n",
    "            print(f'{img} --> .{to_} - {i+1}')"
   ]
  },
  {
   "cell_type": "code",
   "execution_count": 4,
   "id": "9e1a6ec7-9e36-4479-9636-41fcbcacecac",
   "metadata": {},
   "outputs": [],
   "source": [
    "def verifying_position_legend(from_='tif', to_='jpg', pos1=720, pos2=620):\n",
    "    \n",
    "    convert_img(from_=from_, to_=to_) # Converting the images\n",
    "    \n",
    "    while True:\n",
    "        try:\n",
    "            print(f'changing dir from: {os.getcwd()}') # Current dir\n",
    "            os.chdir(\"../new_img\") # Changint the dir to img folder\n",
    "            print(f'to: {os.getcwd()}') # Current dir\n",
    "        except Exception as e:\n",
    "            os.chdir(\"../new_img\") # Changint the dir to img folder\n",
    "            pass\n",
    "        \n",
    "        offset = (pos1, pos2)\n",
    "        imgs = [i for i in glob(f\"*{to_}\")]\n",
    "        #print(imgs)\n",
    "        \n",
    "        background = Image.open(imgs[0])\n",
    "        legend = Image.open(\"../legend/legend.jpg\")\n",
    "        background.paste(legend, offset)\n",
    "        background.show()\n",
    "        print('Confirmar (s ou n)')\n",
    "        var = str(input())\n",
    "        if var != 's':\n",
    "            print(f'pos1:{pos1}, pos2:{pos2}')\n",
    "            print('pos1:')\n",
    "            pos1 = int(input())\n",
    "            print('pos2:')\n",
    "            pos2 = int(input())\n",
    "            continue\n",
    "        elif var == 's':\n",
    "            for img in imgs:\n",
    "                #print(f'to: {os.getcwd()}') # Current dir\n",
    "                background = Image.open(img)\n",
    "                legend = Image.open(\"../legend/legend.jpg\")\n",
    "                background.paste(legend, offset)\n",
    "                background.save(img)\n",
    "            break"
   ]
  },
  {
   "cell_type": "code",
   "execution_count": 6,
   "id": "e75eb57c-3480-4397-a940-77799bcc01ff",
   "metadata": {},
   "outputs": [
    {
     "name": "stdout",
     "output_type": "stream",
     "text": [
      "changing dir from: C:\\Projetos\\Image_Project\\new_img\n",
      "\n",
      "t01-01_ctrl.tif --> .png - 1\n",
      "t01-04_ax01.tif --> .png - 2\n",
      "t01-05_ay01.tif --> .png - 3\n",
      "t02-01_ctrl.tif --> .png - 4\n",
      "t03-01_ctrl.tif --> .png - 5\n",
      "t04-01_ctrl.tif --> .png - 6\n",
      "t05-01_ctrl.tif --> .png - 7\n",
      "t05-04_ax01.tif --> .png - 8\n",
      "t05-05_ay01.tif --> .png - 9\n",
      "t05-06_az01.tif --> .png - 10\n",
      "t06-01_ctrl.tif --> .png - 11\n",
      "t06-04_ax01.tif --> .png - 12\n",
      "t06-05_ay01.tif --> .png - 13\n",
      "t06-06_az01.tif --> .png - 14\n",
      "t07-01_ctrl.tif --> .png - 15\n",
      "t08-01_ctrl.tif --> .png - 16\n",
      "t09-01_ctrl.tif --> .png - 17\n",
      "t10-01_ctrl.tif --> .png - 18\n",
      "t10-04_ax01.tif --> .png - 19\n",
      "t10-05_ay01.tif --> .png - 20\n",
      "t10-06_az01.tif --> .png - 21\n",
      "t11-01_ctrl.tif --> .png - 22\n",
      "t11-04_ax01.tif --> .png - 23\n",
      "t11-05_ay01.tif --> .png - 24\n",
      "t11-06_az01.tif --> .png - 25\n",
      "t12-01_ctrl.tif --> .png - 26\n",
      "t13-01_ctrl.tif --> .png - 27\n",
      "t14-01_ctrl.tif --> .png - 28\n",
      "t15-01_ctrl.tif --> .png - 29\n",
      "t15-04_ax01.tif --> .png - 30\n",
      "t15-05_ay01.tif --> .png - 31\n",
      "t15-06_az01.tif --> .png - 32\n",
      "changing dir from: C:\\Projetos\\Image_Project\\img\n",
      "to: C:\\Projetos\\Image_Project\\new_img\n",
      "Confirmar (s ou n)\n"
     ]
    },
    {
     "name": "stdin",
     "output_type": "stream",
     "text": [
      " n\n"
     ]
    },
    {
     "name": "stdout",
     "output_type": "stream",
     "text": [
      "pos1:720, pos2:620\n",
      "pos1:\n"
     ]
    },
    {
     "name": "stdin",
     "output_type": "stream",
     "text": [
      " 200\n"
     ]
    },
    {
     "name": "stdout",
     "output_type": "stream",
     "text": [
      "pos2:\n"
     ]
    },
    {
     "name": "stdin",
     "output_type": "stream",
     "text": [
      " 200\n"
     ]
    },
    {
     "name": "stdout",
     "output_type": "stream",
     "text": [
      "changing dir from: C:\\Projetos\\Image_Project\\new_img\n",
      "to: C:\\Projetos\\Image_Project\\new_img\n",
      "Confirmar (s ou n)\n"
     ]
    },
    {
     "name": "stdin",
     "output_type": "stream",
     "text": [
      " s\n"
     ]
    }
   ],
   "source": [
    "verifying_position_legend(from_='tif', to_='jpg')"
   ]
  },
  {
   "cell_type": "code",
   "execution_count": null,
   "id": "b6412b85-5d99-4a74-8acd-84b75248e70e",
   "metadata": {},
   "outputs": [],
   "source": []
  },
  {
   "cell_type": "code",
   "execution_count": null,
   "id": "d8d57aad-5c70-42d8-9cd4-9bfc8866ebd4",
   "metadata": {},
   "outputs": [],
   "source": []
  },
  {
   "cell_type": "code",
   "execution_count": null,
   "id": "9e36f1f1-c122-4f21-8bfa-f31a63267739",
   "metadata": {},
   "outputs": [],
   "source": []
  }
 ],
 "metadata": {
  "kernelspec": {
   "display_name": "Python 3",
   "language": "python",
   "name": "python3"
  },
  "language_info": {
   "codemirror_mode": {
    "name": "ipython",
    "version": 3
   },
   "file_extension": ".py",
   "mimetype": "text/x-python",
   "name": "python",
   "nbconvert_exporter": "python",
   "pygments_lexer": "ipython3",
   "version": "3.9.4"
  }
 },
 "nbformat": 4,
 "nbformat_minor": 5
}
