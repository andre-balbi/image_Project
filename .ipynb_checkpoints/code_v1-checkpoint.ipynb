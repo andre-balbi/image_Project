{
 "cells": [
  {
   "cell_type": "code",
   "execution_count": 5,
   "id": "024af3b2-b834-4e80-a86a-3cdc4345aafc",
   "metadata": {},
   "outputs": [],
   "source": [
    "# To run this code must be intalled on the local machine the ImageMagick app!\n",
    "import os\n",
    "from glob import glob\n",
    "from libtiff import TIFF\n",
    "from wand.image import Image\n",
    "\n",
    "from PIL import Image, ImageDraw\n",
    "\n",
    "import warnings\n",
    "warnings.filterwarnings(\"ignore\")"
   ]
  },
  {
   "cell_type": "code",
   "execution_count": 6,
   "id": "a16943ec-b3e2-447b-af27-2d9a088d29ca",
   "metadata": {},
   "outputs": [],
   "source": [
    "def convert_img(from_='tif', to_='jpg'):\n",
    "    try:\n",
    "        print(f'changing dir from: {os.getcwd()}') # Current dir\n",
    "        os.chdir(\"./img\") # Changint the dir to img folder\n",
    "        print(f'to: {os.getcwd()}') # Current dir\n",
    "    except Exception as e:\n",
    "        os.chdir(\"../img\") # Changing the dir to img folder case failed in the first trial\n",
    "        pass\n",
    "    print()\n",
    "    imgs = [i for i in glob(f\"*.{from_}\")] # Getting just the 'from_' files in the folder\n",
    "    \n",
    "    for i, img in enumerate(imgs): # Looping for each image om the folder\n",
    "        from wand.image import Image \n",
    "        with Image(filename = img) as Sampleimg:  \n",
    "            Sampleimg.format = to_ # Setting the format\n",
    "            file_name = f'{img[:-4]}.{to_}' # Spliting the name from the extension and adding the new extension\n",
    "            os.chdir(\"../new_img\") # Changing the dir to 'new_img' folder\n",
    "            Sampleimg.save(filename = file_name) # Saving with t\n",
    "            os.chdir(\"../img\") # Changint the dir to 'img' folder\n",
    "            print(f'{img} --> .{to_} - {i+1}')"
   ]
  },
  {
   "cell_type": "code",
   "execution_count": 7,
   "id": "9e1a6ec7-9e36-4479-9636-41fcbcacecac",
   "metadata": {},
   "outputs": [],
   "source": [
    "def insert_legend(from_='tif', to_='jpg', pos1=720, pos2=620):\n",
    "    \n",
    "    convert_img(from_=from_, to_=to_) # Converting the images\n",
    "    \n",
    "    while True:\n",
    "        try:\n",
    "            print(f'changing dir from: {os.getcwd()}') # Current dir\n",
    "            os.chdir(\"../new_img\") # Changint the dir to img folder\n",
    "            print(f'to: {os.getcwd()}') # Current dir\n",
    "        except Exception as e:\n",
    "            os.chdir(\"../new_img\") # Changint the dir to img folder\n",
    "            pass\n",
    "        \n",
    "        offset = (pos1, pos2) # Position of the label\n",
    "        imgs = [i for i in glob(f\"*{to_}\")]  # Getting just the 'to_' files in the folder with the new images\n",
    "        #print(imgs)\n",
    "        \n",
    "        background = Image.open(imgs[1])\n",
    "        legend = Image.open(\"../legend/legend.jpg\")\n",
    "        background.paste(legend, offset)\n",
    "        background.show()\n",
    "        print('Confirmar (s ou n)')\n",
    "        var = str(input())\n",
    "        if var != 's':\n",
    "            print(f'Pos. Horizontal:{pos1}, Pos. Vertical:{pos2}')\n",
    "            print('Nova Pos. Horizontal:')\n",
    "            pos1 = int(input())\n",
    "            print('Nova Pos. Vertical:')\n",
    "            pos2 = int(input())\n",
    "            continue\n",
    "        elif var == 's':\n",
    "            for img in imgs:\n",
    "                #print(f'to: {os.getcwd()}') # Current dir\n",
    "                background = Image.open(img)\n",
    "                legend = Image.open(\"../legend/legend.jpg\")\n",
    "                background.paste(legend, offset)\n",
    "                background.save(img)\n",
    "            break"
   ]
  },
  {
   "cell_type": "code",
   "execution_count": 8,
   "id": "e75eb57c-3480-4397-a940-77799bcc01ff",
   "metadata": {
    "tags": []
   },
   "outputs": [
    {
     "name": "stdout",
     "output_type": "stream",
     "text": [
      "changing dir from: C:\\Projetos\\Image_Project\\new_img\n",
      "\n",
      "t01-01_ctrl.tif --> .jpg - 1\n",
      "t01-03_ax101+ax201.tif --> .jpg - 2\n",
      "t01-04_ay101+ay201.tif --> .jpg - 3\n",
      "t01-05_az101+az201.tif --> .jpg - 4\n",
      "t01-06_az102+ax202.tif --> .jpg - 5\n",
      "t01-07_ay102+ay202.tif --> .jpg - 6\n",
      "t01-08_az102+az202.tif --> .jpg - 7\n",
      "t01-15_ay103+ay203.tif --> .jpg - 8\n",
      "changing dir from: C:\\Projetos\\Image_Project\\img\n",
      "to: C:\\Projetos\\Image_Project\\new_img\n",
      "Confirmar (s ou n)\n"
     ]
    },
    {
     "name": "stdin",
     "output_type": "stream",
     "text": [
      " s\n"
     ]
    }
   ],
   "source": [
    "insert_legend(from_='tif', to_='jpg')"
   ]
  }
 ],
 "metadata": {
  "kernelspec": {
   "display_name": "Python 3",
   "language": "python",
   "name": "python3"
  },
  "language_info": {
   "codemirror_mode": {
    "name": "ipython",
    "version": 3
   },
   "file_extension": ".py",
   "mimetype": "text/x-python",
   "name": "python",
   "nbconvert_exporter": "python",
   "pygments_lexer": "ipython3",
   "version": "3.9.4"
  }
 },
 "nbformat": 4,
 "nbformat_minor": 5
}
