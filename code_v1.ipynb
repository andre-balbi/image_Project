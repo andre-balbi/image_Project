{
 "cells": [
  {
   "cell_type": "code",
   "execution_count": 1,
   "id": "024af3b2-b834-4e80-a86a-3cdc4345aafc",
   "metadata": {},
   "outputs": [],
   "source": [
    "# To run this code must be intalled on the local machine the ImageMagick app!\n",
    "import os\n",
    "from glob import glob\n",
    "from libtiff import TIFF\n",
    "from wand.image import Image\n",
    "\n",
    "from PIL import Image, ImageDraw\n",
    "\n",
    "import warnings\n",
    "warnings.filterwarnings(\"ignore\")"
   ]
  },
  {
   "cell_type": "code",
   "execution_count": 2,
   "id": "a16943ec-b3e2-447b-af27-2d9a088d29ca",
   "metadata": {},
   "outputs": [],
   "source": [
    "def convert_img(from_='tif', to_='jpg'):\n",
    "    try:\n",
    "        print(f'changing dir from: {os.getcwd()}') # Current dir\n",
    "        os.chdir(\"./img\") # Changint the dir to img folder\n",
    "        print(f'to: {os.getcwd()}') # Current dir\n",
    "    except Exception as e:\n",
    "        os.chdir(\"../img\") # Changing the dir to img folder case failed in the first trial\n",
    "        pass\n",
    "    print()\n",
    "    imgs = [i for i in glob(f\"*.{from_}\")] # Getting just the 'from_' files in the folder\n",
    "    \n",
    "    for i, img in enumerate(imgs): # Looping for each image om the folder\n",
    "        from wand.image import Image \n",
    "        with Image(filename = img) as Sampleimg:  \n",
    "            Sampleimg.format = to_ # Setting the format\n",
    "            file_name = f'{img[:-4]}.{to_}' # Spliting the name from the extension and adding the new extension\n",
    "            os.chdir(\"../new_img\") # Changing the dir to 'new_img' folder\n",
    "            Sampleimg.save(filename = file_name) # Saving with t\n",
    "            os.chdir(\"../img\") # Changint the dir to 'img' folder\n",
    "            print(f'{img} --> .{to_} - {i+1}')"
   ]
  },
  {
   "cell_type": "code",
   "execution_count": 3,
   "id": "9e1a6ec7-9e36-4479-9636-41fcbcacecac",
   "metadata": {},
   "outputs": [],
   "source": [
    "def insert_legend(from_='tif', to_='jpg', pos1=720, pos2=620):\n",
    "    \n",
    "    convert_img(from_=from_, to_=to_) # Converting the images\n",
    "    \n",
    "    while True:\n",
    "        try:\n",
    "            print(f'changing dir from: {os.getcwd()}') # Current dir\n",
    "            os.chdir(\"../new_img\") # Changint the dir to img folder\n",
    "            print(f'to: {os.getcwd()}') # Current dir\n",
    "        except Exception as e:\n",
    "            os.chdir(\"../new_img\") # Changint the dir to img folder\n",
    "            pass\n",
    "        \n",
    "        offset = (pos1, pos2) # Position of the label\n",
    "        imgs = [i for i in glob(f\"*{to_}\")]  # Getting just the 'to_' files in the folder with the new images\n",
    "        #print(imgs)\n",
    "        \n",
    "        background = Image.open(imgs[1])\n",
    "        legend = Image.open(\"../legend/legend.jpg\")\n",
    "        background.paste(legend, offset)\n",
    "        background.show()\n",
    "        print('Confirmar (s ou n)')\n",
    "        var = str(input())\n",
    "        if var != 's':\n",
    "            print(f'Pos. Horizontal:{pos1}, Pos. Vertical:{pos2}')\n",
    "            print('Nova Pos. Horizontal:')\n",
    "            pos1 = int(input())\n",
    "            print('Nova Pos. Vertical:')\n",
    "            pos2 = int(input())\n",
    "            continue\n",
    "        elif var == 's':\n",
    "            for img in imgs:\n",
    "                #print(f'to: {os.getcwd()}') # Current dir\n",
    "                background = Image.open(img)\n",
    "                legend = Image.open(\"../legend/legend.jpg\")\n",
    "                background.paste(legend, offset)\n",
    "                background.save(img)\n",
    "            break"
   ]
  },
  {
   "cell_type": "code",
   "execution_count": 4,
   "id": "e75eb57c-3480-4397-a940-77799bcc01ff",
   "metadata": {
    "tags": []
   },
   "outputs": [
    {
     "name": "stdout",
     "output_type": "stream",
     "text": [
      "changing dir from: C:\\Projetos\\Image_Project\n",
      "to: C:\\Projetos\\Image_Project\\img\n",
      "\n",
      "t01-01_ctrl.tif --> .jpg - 1\n",
      "t01-03_ax101+ax201.tif --> .jpg - 2\n",
      "t01-04_ay101+ay201.tif --> .jpg - 3\n",
      "t01-05_az101+az201.tif --> .jpg - 4\n",
      "t01-06_az102+ax202.tif --> .jpg - 5\n",
      "t01-07_ay102+ay202.tif --> .jpg - 6\n",
      "t01-08_az102+az202.tif --> .jpg - 7\n",
      "t01-15_ay103+ay203.tif --> .jpg - 8\n",
      "t03-01_ctrl.tif --> .jpg - 9\n",
      "t05-01_ctrl.tif --> .jpg - 10\n",
      "t05-03_ax101+ax202.tif --> .jpg - 11\n",
      "t05-04_ay101+ay201.tif --> .jpg - 12\n",
      "t05-05_az101+az201.tif --> .jpg - 13\n",
      "t05-06_ax102+ax202.tif --> .jpg - 14\n",
      "t05-07_ay102+ay202.tif --> .jpg - 15\n",
      "t05-08_az102+az202.tif --> .jpg - 16\n",
      "t05-15_az103+az203.tif --> .jpg - 17\n",
      "t11-01_ctrl.tif --> .jpg - 18\n",
      "t11-03_ax301+ax401.tif --> .jpg - 19\n",
      "t11-04_ay301+ay401.tif --> .jpg - 20\n",
      "t11-05_az301+az401.tif --> .jpg - 21\n",
      "t11-06_ax302+ax402.tif --> .jpg - 22\n",
      "t11-07_ay302+ay402.tif --> .jpg - 23\n",
      "t11-08_az302+az402.tif --> .jpg - 24\n",
      "t11-15_ay303+ay403.tif --> .jpg - 25\n",
      "t13-01_ctrl.tif --> .jpg - 26\n",
      "t13-a_ax301_401.tif --> .jpg - 27\n",
      "t13-b_ay301_401.tif --> .jpg - 28\n",
      "t13-c_az301_401.tif --> .jpg - 29\n",
      "t13-d_ax302_402.tif --> .jpg - 30\n",
      "t13-e_ay302_402.tif --> .jpg - 31\n",
      "t13-f_az302_402.tif --> .jpg - 32\n",
      "t13-g_ax303_403.tif --> .jpg - 33\n",
      "t15-01_ctrl.tif --> .jpg - 34\n",
      "t15-03_ax301+ax401.tif --> .jpg - 35\n",
      "t15-04_ay301+ay401.tif --> .jpg - 36\n",
      "t15-05_az301+az401.tif --> .jpg - 37\n",
      "t15-06_ax302+ax402.tif --> .jpg - 38\n",
      "t15-07_ay302+ay402.tif --> .jpg - 39\n",
      "t15-08_az302_402.tif --> .jpg - 40\n",
      "t15-az303+az403.tif --> .jpg - 41\n",
      "t3-a_ax101_201.tif --> .jpg - 42\n",
      "t3-b_ay101_201.tif --> .jpg - 43\n",
      "t3-c_az101_201.tif --> .jpg - 44\n",
      "t3-d_ax102_202.tif --> .jpg - 45\n",
      "t3-e_ay102_202.tif --> .jpg - 46\n",
      "t3-f_az102_202.tif --> .jpg - 47\n",
      "t3-g_ax103_203.tif --> .jpg - 48\n",
      "changing dir from: C:\\Projetos\\Image_Project\\img\n",
      "to: C:\\Projetos\\Image_Project\\new_img\n",
      "Confirmar (s ou n)\n"
     ]
    },
    {
     "name": "stdin",
     "output_type": "stream",
     "text": [
      " n\n"
     ]
    },
    {
     "name": "stdout",
     "output_type": "stream",
     "text": [
      "Pos. Horizontal:720, Pos. Vertical:620\n",
      "Nova Pos. Horizontal:\n"
     ]
    },
    {
     "name": "stdin",
     "output_type": "stream",
     "text": [
      " 700\n"
     ]
    },
    {
     "name": "stdout",
     "output_type": "stream",
     "text": [
      "Nova Pos. Vertical:\n"
     ]
    },
    {
     "name": "stdin",
     "output_type": "stream",
     "text": [
      " 620\n"
     ]
    },
    {
     "name": "stdout",
     "output_type": "stream",
     "text": [
      "changing dir from: C:\\Projetos\\Image_Project\\new_img\n",
      "to: C:\\Projetos\\Image_Project\\new_img\n",
      "Confirmar (s ou n)\n"
     ]
    },
    {
     "name": "stdin",
     "output_type": "stream",
     "text": [
      " n\n"
     ]
    },
    {
     "name": "stdout",
     "output_type": "stream",
     "text": [
      "Pos. Horizontal:700, Pos. Vertical:620\n",
      "Nova Pos. Horizontal:\n"
     ]
    },
    {
     "name": "stdin",
     "output_type": "stream",
     "text": [
      " 690\n"
     ]
    },
    {
     "name": "stdout",
     "output_type": "stream",
     "text": [
      "Nova Pos. Vertical:\n"
     ]
    },
    {
     "name": "stdin",
     "output_type": "stream",
     "text": [
      " 620\n"
     ]
    },
    {
     "name": "stdout",
     "output_type": "stream",
     "text": [
      "changing dir from: C:\\Projetos\\Image_Project\\new_img\n",
      "to: C:\\Projetos\\Image_Project\\new_img\n",
      "Confirmar (s ou n)\n"
     ]
    },
    {
     "name": "stdin",
     "output_type": "stream",
     "text": [
      " n\n"
     ]
    },
    {
     "name": "stdout",
     "output_type": "stream",
     "text": [
      "Pos. Horizontal:690, Pos. Vertical:620\n",
      "Nova Pos. Horizontal:\n"
     ]
    },
    {
     "name": "stdin",
     "output_type": "stream",
     "text": [
      " 680\n"
     ]
    },
    {
     "name": "stdout",
     "output_type": "stream",
     "text": [
      "Nova Pos. Vertical:\n"
     ]
    },
    {
     "name": "stdin",
     "output_type": "stream",
     "text": [
      " 620\n"
     ]
    },
    {
     "name": "stdout",
     "output_type": "stream",
     "text": [
      "changing dir from: C:\\Projetos\\Image_Project\\new_img\n",
      "to: C:\\Projetos\\Image_Project\\new_img\n",
      "Confirmar (s ou n)\n"
     ]
    },
    {
     "name": "stdin",
     "output_type": "stream",
     "text": [
      " n\n"
     ]
    },
    {
     "name": "stdout",
     "output_type": "stream",
     "text": [
      "Pos. Horizontal:680, Pos. Vertical:620\n",
      "Nova Pos. Horizontal:\n"
     ]
    },
    {
     "name": "stdin",
     "output_type": "stream",
     "text": [
      " 690\n"
     ]
    },
    {
     "name": "stdout",
     "output_type": "stream",
     "text": [
      "Nova Pos. Vertical:\n"
     ]
    },
    {
     "name": "stdin",
     "output_type": "stream",
     "text": [
      " 620\n"
     ]
    },
    {
     "name": "stdout",
     "output_type": "stream",
     "text": [
      "changing dir from: C:\\Projetos\\Image_Project\\new_img\n",
      "to: C:\\Projetos\\Image_Project\\new_img\n",
      "Confirmar (s ou n)\n"
     ]
    },
    {
     "name": "stdin",
     "output_type": "stream",
     "text": [
      " s\n"
     ]
    }
   ],
   "source": [
    "insert_legend(from_='tif', to_='jpg')"
   ]
  },
  {
   "cell_type": "code",
   "execution_count": null,
   "id": "b6412b85-5d99-4a74-8acd-84b75248e70e",
   "metadata": {},
   "outputs": [],
   "source": []
  },
  {
   "cell_type": "code",
   "execution_count": null,
   "id": "d8d57aad-5c70-42d8-9cd4-9bfc8866ebd4",
   "metadata": {},
   "outputs": [],
   "source": []
  },
  {
   "cell_type": "code",
   "execution_count": null,
   "id": "9e36f1f1-c122-4f21-8bfa-f31a63267739",
   "metadata": {},
   "outputs": [],
   "source": []
  },
  {
   "cell_type": "code",
   "execution_count": null,
   "id": "e49230fa-48b3-4904-a61e-05706e482928",
   "metadata": {},
   "outputs": [],
   "source": []
  },
  {
   "cell_type": "code",
   "execution_count": null,
   "id": "082a63a1-57cf-4a0a-ad4c-c1bc42bf348a",
   "metadata": {},
   "outputs": [],
   "source": []
  },
  {
   "cell_type": "code",
   "execution_count": null,
   "id": "d8cb41e3-0f7d-46e2-9e1c-38392a31863f",
   "metadata": {},
   "outputs": [],
   "source": []
  },
  {
   "cell_type": "code",
   "execution_count": null,
   "id": "dcbd7ec3-6a4c-46b5-80d2-f29800da9621",
   "metadata": {},
   "outputs": [],
   "source": []
  },
  {
   "cell_type": "code",
   "execution_count": null,
   "id": "3d2fb747-d845-4394-921d-6f779c126a86",
   "metadata": {},
   "outputs": [],
   "source": []
  },
  {
   "cell_type": "code",
   "execution_count": null,
   "id": "4cb57d97-0f7e-4bcf-b3d3-e6b46291993f",
   "metadata": {},
   "outputs": [],
   "source": []
  }
 ],
 "metadata": {
  "kernelspec": {
   "display_name": "Python 3",
   "language": "python",
   "name": "python3"
  },
  "language_info": {
   "codemirror_mode": {
    "name": "ipython",
    "version": 3
   },
   "file_extension": ".py",
   "mimetype": "text/x-python",
   "name": "python",
   "nbconvert_exporter": "python",
   "pygments_lexer": "ipython3",
   "version": "3.9.4"
  }
 },
 "nbformat": 4,
 "nbformat_minor": 5
}
